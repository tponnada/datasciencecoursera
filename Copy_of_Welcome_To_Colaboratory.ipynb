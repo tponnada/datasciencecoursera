{
  "nbformat": 4,
  "nbformat_minor": 0,
  "metadata": {
    "colab": {
      "name": "Copy of Welcome To Colaboratory",
      "provenance": [],
      "collapsed_sections": [],
      "toc_visible": true,
      "include_colab_link": true
    },
    "kernelspec": {
      "display_name": "Python 3",
      "name": "python3"
    }
  },
  "cells": [
    {
      "cell_type": "markdown",
      "metadata": {
        "id": "view-in-github",
        "colab_type": "text"
      },
      "source": [
        "<a href=\"https://colab.research.google.com/github/tponnada/datasciencecoursera/blob/master/Copy_of_Welcome_To_Colaboratory.ipynb\" target=\"_parent\"><img src=\"https://colab.research.google.com/assets/colab-badge.svg\" alt=\"Open In Colab\"/></a>"
      ]
    },
    {
      "cell_type": "markdown",
      "metadata": {
        "colab_type": "text",
        "id": "5fCEDCU_qrC0"
      },
      "source": [
        "<p><img alt=\"Colaboratory logo\" height=\"45px\" src=\"/img/colab_favicon.ico\" align=\"left\" hspace=\"10px\" vspace=\"0px\"></p>\n",
        "\n",
        "<h1>Welcome to Colaboratory!</h1>\n",
        "\n",
        "\n",
        "Colaboratory is a free Jupyter notebook environment that requires no setup and runs entirely in the cloud.\n",
        "\n",
        "With Colaboratory you can write and execute code, save and share your analyses, and access powerful computing resources, all for free from your browser."
      ]
    },
    {
      "cell_type": "code",
      "metadata": {
        "colab_type": "code",
        "id": "xitplqMNk_Hc",
        "outputId": "ed4f60d2-878d-4056-c438-352dac39a112",
        "colab": {
          "height": 420
        }
      },
      "source": [
        "#@title Introducing Colaboratory { display-mode: \"form\" }\n",
        "#@markdown This 3-minute video gives an overview of the key features of Colaboratory:\n",
        "from IPython.display import YouTubeVideo\n",
        "YouTubeVideo('inN8seMm7UI', width=600, height=400)"
      ],
      "execution_count": 0,
      "outputs": [
        {
          "output_type": "execute_result",
          "data": {
            "text/html": [
              "\n",
              "        <iframe\n",
              "            width=\"600\"\n",
              "            height=\"400\"\n",
              "            src=\"https://www.youtube.com/embed/inN8seMm7UI\"\n",
              "            frameborder=\"0\"\n",
              "            allowfullscreen\n",
              "        ></iframe>\n",
              "        "
            ],
            "text/plain": [
              "<IPython.lib.display.YouTubeVideo at 0x7f956e9dda50>"
            ]
          },
          "metadata": {
            "tags": []
          },
          "execution_count": 0
        }
      ]
    },
    {
      "cell_type": "markdown",
      "metadata": {
        "colab_type": "text",
        "id": "GJBs_flRovLc"
      },
      "source": [
        "## Getting Started\n",
        "\n",
        "The document you are reading is a  [Jupyter notebook](https://jupyter.org/), hosted in Colaboratory. It is not a static page, but an interactive environment that lets you write and execute code in Python and other languages.\n",
        "\n",
        "For example, here is a **code cell** with a short Python script that computes a value, stores it in a variable, and prints the result:"
      ]
    },
    {
      "cell_type": "code",
      "metadata": {
        "colab_type": "code",
        "id": "gJr_9dXGpJ05",
        "outputId": "5626194c-e802-4293-942d-2908885c3c1f",
        "colab": {
          "height": 35
        }
      },
      "source": [
        "seconds_in_a_day = 24 * 60 * 60\n",
        "seconds_in_a_day"
      ],
      "execution_count": 0,
      "outputs": [
        {
          "output_type": "execute_result",
          "data": {
            "text/plain": [
              "86400"
            ]
          },
          "metadata": {
            "tags": []
          },
          "execution_count": 0
        }
      ]
    },
    {
      "cell_type": "markdown",
      "metadata": {
        "colab_type": "text",
        "id": "2fhs6GZ4qFMx"
      },
      "source": [
        "To execute the code in the above cell, select it with a click and then either press the play button to the left of the code, or use the keyboard shortcut \"Command/Ctrl+Enter\".\n",
        "\n",
        "All cells modify the same global state, so variables that you define by executing a cell can be used in other cells:"
      ]
    },
    {
      "cell_type": "code",
      "metadata": {
        "colab_type": "code",
        "id": "-gE-Ez1qtyIA",
        "outputId": "8d2e4259-4682-4e19-b683-7b9087f28820",
        "colab": {
          "height": 35
        }
      },
      "source": [
        "seconds_in_a_week = 7 * seconds_in_a_day\n",
        "seconds_in_a_week"
      ],
      "execution_count": 0,
      "outputs": [
        {
          "output_type": "execute_result",
          "data": {
            "text/plain": [
              "604800"
            ]
          },
          "metadata": {
            "tags": []
          },
          "execution_count": 0
        }
      ]
    },
    {
      "cell_type": "markdown",
      "metadata": {
        "colab_type": "text",
        "id": "lSrWNr3MuFUS"
      },
      "source": [
        "For more information about working with Colaboratory notebooks, see [Overview of Colaboratory](/notebooks/basic_features_overview.ipynb).\n"
      ]
    },
    {
      "cell_type": "markdown",
      "metadata": {
        "colab_type": "text",
        "id": "-Rh3-Vt9Nev9"
      },
      "source": [
        "## More Resources\n",
        "\n",
        "Learn how to make the most of Python, Jupyter, Colaboratory, and related tools with these resources:\n",
        "\n",
        "### Working with Notebooks in Colaboratory\n",
        "- [Overview of Colaboratory](/notebooks/basic_features_overview.ipynb)\n",
        "- [Guide to Markdown](/notebooks/markdown_guide.ipynb)\n",
        "- [Importing libraries and installing dependencies](/notebooks/snippets/importing_libraries.ipynb)\n",
        "- [Saving and loading notebooks in GitHub](https://colab.research.google.com/github/googlecolab/colabtools/blob/master/notebooks/colab-github-demo.ipynb)\n",
        "- [Interactive forms](/notebooks/forms.ipynb)\n",
        "- [Interactive widgets](/notebooks/widgets.ipynb)\n",
        "- <img src=\"/img/new.png\" height=\"20px\" align=\"left\" hspace=\"4px\" alt=\"New\"></img>\n",
        " [TensorFlow 2 in Colab](/notebooks/tensorflow_version.ipynb)\n",
        "\n",
        "### Working with Data\n",
        "- [Loading data: Drive, Sheets, and Google Cloud Storage](/notebooks/io.ipynb) \n",
        "- [Charts: visualizing data](/notebooks/charts.ipynb)\n",
        "- [Getting started with BigQuery](/notebooks/bigquery.ipynb)\n",
        "\n",
        "### Machine Learning Crash Course\n",
        "These are a few of the notebooks from Google's online Machine Learning course. See the [full course website](https://developers.google.com/machine-learning/crash-course/) for more.\n",
        "- [Intro to Pandas](/notebooks/mlcc/intro_to_pandas.ipynb)\n",
        "- [Tensorflow concepts](/notebooks/mlcc/tensorflow_programming_concepts.ipynb)\n",
        "- [First steps with TensorFlow](/notebooks/mlcc/first_steps_with_tensor_flow.ipynb)\n",
        "- [Intro to neural nets](/notebooks/mlcc/intro_to_neural_nets.ipynb)\n",
        "- [Intro to sparse data and embeddings](/notebooks/mlcc/intro_to_sparse_data_and_embeddings.ipynb)\n",
        "\n",
        "### Using Accelerated Hardware\n",
        "- [TensorFlow with GPUs](/notebooks/gpu.ipynb)\n",
        "- [TensorFlow with TPUs](/notebooks/tpu.ipynb)"
      ]
    },
    {
      "cell_type": "markdown",
      "metadata": {
        "colab_type": "text",
        "id": "P-H6Lw1vyNNd"
      },
      "source": [
        "## Machine Learning Examples: Seedbank\n",
        "\n",
        "To see end-to-end examples of the interactive machine learning analyses that Colaboratory makes possible, check out the [Seedbank](https://research.google.com/seedbank/) project.\n",
        "\n",
        "A few featured examples:\n",
        "\n",
        "- [Neural Style Transfer](https://research.google.com/seedbank/seed/neural_style_transfer_with_tfkeras): Use deep learning to transfer style between images.\n",
        "- [EZ NSynth](https://research.google.com/seedbank/seed/ez_nsynth): Synthesize audio with WaveNet auto-encoders.\n",
        "- [Fashion MNIST with Keras and TPUs](https://research.google.com/seedbank/seed/fashion_mnist_with_keras_and_tpus): Classify fashion-related images with deep learning.\n",
        "- [DeepDream](https://research.google.com/seedbank/seed/deepdream): Produce DeepDream images from your own photos.\n",
        "- [Convolutional VAE](https://research.google.com/seedbank/seed/convolutional_vae): Create a generative model of handwritten digits."
      ]
    },
    {
      "cell_type": "code",
      "metadata": {
        "id": "_osz1tED3frM",
        "colab_type": "code",
        "outputId": "d5b281ad-09b3-4052-c402-71234657ccba",
        "colab": {
          "base_uri": "https://localhost:8080/",
          "height": 34
        }
      },
      "source": [
        "import numpy as np\n",
        "import pandas as pd\n",
        "import matplotlib.pyplot as plt\n",
        "import scipy.stats as f\n",
        "%matplotlib inline\n",
        "from IPython.core.interactiveshell import InteractiveShell\n",
        "InteractiveShell.ast_node_interactivity = \"all\"\n",
        "\n",
        "#The weights of steers in a herd are distributed normally.  The variance is 40,000 and the mean steer weight is 1300 lbs.  \n",
        "#Find the probability that the weight of a randomly selected steer is greater than 979 lbs. (Round your answer to 4 decimal places)\n",
        "\n",
        "round(f.norm.sf(979, 1300, ((40000)**0.5)),4)"
      ],
      "execution_count": 45,
      "outputs": [
        {
          "output_type": "execute_result",
          "data": {
            "text/plain": [
              "0.9458"
            ]
          },
          "metadata": {
            "tags": []
          },
          "execution_count": 45
        }
      ]
    },
    {
      "cell_type": "code",
      "metadata": {
        "id": "YcyXtmlyQLGK",
        "colab_type": "code",
        "outputId": "92e88a75-6a4f-4b7c-b125-ed075e14790c",
        "colab": {
          "base_uri": "https://localhost:8080/",
          "height": 34
        }
      },
      "source": [
        "#SVGA monitors manufactured by TSI Electronics have life spans that have a normal distribution with a variance of 1,960,000 \n",
        "#and a mean life span of 11,000 hours. If a SVGA monitor is selected at random, find the probability that the life span of the \n",
        "#monitor will be more than 8340 hours. (Round your answer to 4 decimal places)\n",
        "\n",
        "\n",
        "round(f.norm.sf(8340, 11000, ((1960000)**0.5)),4)"
      ],
      "execution_count": 5,
      "outputs": [
        {
          "output_type": "execute_result",
          "data": {
            "text/plain": [
              "0.9713"
            ]
          },
          "metadata": {
            "tags": []
          },
          "execution_count": 5
        }
      ]
    },
    {
      "cell_type": "code",
      "metadata": {
        "id": "dauJts1sRjdn",
        "colab_type": "code",
        "outputId": "ee3ea85a-1d31-49df-d7c1-d9d193a383ca",
        "colab": {
          "base_uri": "https://localhost:8080/",
          "height": 34
        }
      },
      "source": [
        "#Suppose the mean income of firms in the industry for a year is 80 million dollars with a standard deviation of 3 million dollars.\n",
        "#If incomes for the industry are distributed normally, what is the probability that a randomly selected firm will earn between 83 and 85 million dollars? \n",
        "#(Round your answer to 4 decimal places)\n",
        "\n",
        "low_bound = f.norm.sf(83, 80, 3)\n",
        "high_bound = f.norm.sf(85, 80, 3)\n",
        "round(low_bound - high_bound, 4)"
      ],
      "execution_count": 6,
      "outputs": [
        {
          "output_type": "execute_result",
          "data": {
            "text/plain": [
              "0.1109"
            ]
          },
          "metadata": {
            "tags": []
          },
          "execution_count": 6
        }
      ]
    },
    {
      "cell_type": "code",
      "metadata": {
        "id": "gKdgM8_sQ4nT",
        "colab_type": "code",
        "outputId": "644d9faf-f7b5-4579-8b2d-6d9e433f8164",
        "colab": {
          "base_uri": "https://localhost:8080/",
          "height": 34
        }
      },
      "source": [
        "#Suppose GRE Verbal scores are normally distributed with a mean of 456 and a standard deviation of 123.  \n",
        "#A university plans to offer tutoring jobs to students whose scores are in the top 14%.  \n",
        "#What is the minimum score required for the job offer?  Round your answer to the nearest whole number, if necessary.\n",
        "\n",
        "round(f.norm.isf(0.14, 456, 123))"
      ],
      "execution_count": 7,
      "outputs": [
        {
          "output_type": "execute_result",
          "data": {
            "text/plain": [
              "589.0"
            ]
          },
          "metadata": {
            "tags": []
          },
          "execution_count": 7
        }
      ]
    },
    {
      "cell_type": "code",
      "metadata": {
        "id": "rVAbUE15S-Uj",
        "colab_type": "code",
        "outputId": "d1b86650-30a4-45b2-b629-bda718f3bd67",
        "colab": {
          "base_uri": "https://localhost:8080/",
          "height": 50
        }
      },
      "source": [
        "#The lengths of nails produced in a factory are normally distributed with a mean of 6.13 centimeters and a standard deviation of 0.06 centimeters.  \n",
        "#Find the two lengths that separate the top 7% and the bottom 7%.  These lengths could serve as limits used to identify which nails should be rejected.  \n",
        "#Round your answer to the nearest hundredth, if necessary.\n",
        "\n",
        "round(f.norm.ppf(0.07, 6.13, 0.06),2)\n",
        "print()\n",
        "round(f.norm.isf(0.07, 6.13, 0.06),2)\n",
        "print()\n",
        "\n",
        "\n"
      ],
      "execution_count": 46,
      "outputs": [
        {
          "output_type": "execute_result",
          "data": {
            "text/plain": [
              "6.04"
            ]
          },
          "metadata": {
            "tags": []
          },
          "execution_count": 46
        },
        {
          "output_type": "stream",
          "text": [
            "\n"
          ],
          "name": "stdout"
        },
        {
          "output_type": "execute_result",
          "data": {
            "text/plain": [
              "6.22"
            ]
          },
          "metadata": {
            "tags": []
          },
          "execution_count": 46
        },
        {
          "output_type": "stream",
          "text": [
            "\n"
          ],
          "name": "stdout"
        }
      ]
    },
    {
      "cell_type": "code",
      "metadata": {
        "id": "jf78BUrVckSk",
        "colab_type": "code",
        "outputId": "3401b797-5eea-4ce7-fa96-f8833a72fdb3",
        "colab": {
          "base_uri": "https://localhost:8080/",
          "height": 50
        }
      },
      "source": [
        "#An English professor assigns letter grades on a test according to the following scheme.\n",
        "#\tA:  Top 13% of scores\n",
        "#\tB:  Scores below the top 13% and above the bottom 55%\n",
        "#\tC:  Scores below the top 45% and above the bottom 20%\n",
        "#\tD:  Scores below the top 80% and above the bottom 9%\n",
        "#\tF:  Bottom 9% of scores\n",
        "#\tScores on the test are normally distributed with a mean of 78.8 and a standard deviation of 9.8.  \n",
        "#Find the numerical limits for a C grade.  Round your answers to the nearest whole number, if necessary.\n",
        "\n",
        "round(f.norm.ppf(0.2, 78.8, 9.8))\n",
        "print()\n",
        "round(f.norm.isf(0.45, 78.8, 9.8))\n",
        "print()\n",
        "\n"
      ],
      "execution_count": 48,
      "outputs": [
        {
          "output_type": "execute_result",
          "data": {
            "text/plain": [
              "71.0"
            ]
          },
          "metadata": {
            "tags": []
          },
          "execution_count": 48
        },
        {
          "output_type": "stream",
          "text": [
            "\n"
          ],
          "name": "stdout"
        },
        {
          "output_type": "execute_result",
          "data": {
            "text/plain": [
              "80.0"
            ]
          },
          "metadata": {
            "tags": []
          },
          "execution_count": 48
        },
        {
          "output_type": "stream",
          "text": [
            "\n"
          ],
          "name": "stdout"
        }
      ]
    },
    {
      "cell_type": "code",
      "metadata": {
        "id": "2ZHoFgeDim7M",
        "colab_type": "code",
        "outputId": "6e5fa23d-d70e-4077-f15c-5dc064a71d64",
        "colab": {
          "base_uri": "https://localhost:8080/",
          "height": 34
        }
      },
      "source": [
        "#Suppose ACT Composite scores are normally distributed with a mean of 21.2 and a standard deviation of 5.4.\n",
        "#A university plans to admit students whose scores are in the top 45%.  What is the minimum score required for admission?  \n",
        "#Round your answer to the nearest tenth, if necessary.\n",
        "\n",
        "round(f.norm.isf(0.45, 21.2, 5.4),1)"
      ],
      "execution_count": 49,
      "outputs": [
        {
          "output_type": "execute_result",
          "data": {
            "text/plain": [
              "21.9"
            ]
          },
          "metadata": {
            "tags": []
          },
          "execution_count": 49
        }
      ]
    },
    {
      "cell_type": "code",
      "metadata": {
        "id": "qYuSahYGi6UU",
        "colab_type": "code",
        "outputId": "435ca67d-0fe5-4901-ba32-a735866d90a9",
        "colab": {
          "base_uri": "https://localhost:8080/",
          "height": 34
        }
      },
      "source": [
        "#Consider the probability that less than 11 out of 151 students will not graduate on time.  \n",
        "#Assume the probability that a given student will not graduate on time is 9%.  \n",
        "#Approximate the probability using the normal distribution. (Round your answer to 4 decimal places.)\n",
        "\n",
        "round(f.binom.cdf(10, 151, 0.09),4)"
      ],
      "execution_count": 50,
      "outputs": [
        {
          "output_type": "execute_result",
          "data": {
            "text/plain": [
              "0.192"
            ]
          },
          "metadata": {
            "tags": []
          },
          "execution_count": 50
        }
      ]
    },
    {
      "cell_type": "code",
      "metadata": {
        "id": "HTBWL1PXmiTK",
        "colab_type": "code",
        "outputId": "43721cef-1989-49ba-ee4c-0f72ab5528d2",
        "colab": {
          "base_uri": "https://localhost:8080/",
          "height": 34
        }
      },
      "source": [
        "#The mean lifetime of a tire is 48 months with a standard deviation of 7.  \n",
        "#If 147 tires are sampled, what is the probability that the mean of the sample would be greater than 48.83 months? \n",
        "#(Round your answer to 4 decimal places)\n",
        "\n",
        "round(f.norm.sf(48.83, 48, (7/(147)**0.5)),4)"
      ],
      "execution_count": 51,
      "outputs": [
        {
          "output_type": "execute_result",
          "data": {
            "text/plain": [
              "0.0753"
            ]
          },
          "metadata": {
            "tags": []
          },
          "execution_count": 51
        }
      ]
    },
    {
      "cell_type": "code",
      "metadata": {
        "id": "5ybNWMPAoVKc",
        "colab_type": "code",
        "colab": {}
      },
      "source": [
        ""
      ],
      "execution_count": 0,
      "outputs": []
    },
    {
      "cell_type": "code",
      "metadata": {
        "id": "o4RDPSU7oVOR",
        "colab_type": "code",
        "outputId": "a5877300-0b49-4aa0-f670-d7f6113d050b",
        "colab": {
          "base_uri": "https://localhost:8080/",
          "height": 34
        }
      },
      "source": [
        "#The quality control manager at a computer manufacturing company believes that the mean life of a computer is 91 months, \n",
        "#with a standard deviation of 10.  If he is correct, what is the probability that the mean of a sample of 68 computers \n",
        "#would be greater than 93.54 months? (Round your answer to 4 decimal places)\n",
        "\n",
        "round(f.norm.sf(93.54, 91, (10/(68)**0.5)),4)"
      ],
      "execution_count": 52,
      "outputs": [
        {
          "output_type": "execute_result",
          "data": {
            "text/plain": [
              "0.0181"
            ]
          },
          "metadata": {
            "tags": []
          },
          "execution_count": 52
        }
      ]
    },
    {
      "cell_type": "code",
      "metadata": {
        "id": "RdQBEkY1ozte",
        "colab_type": "code",
        "outputId": "f0bef5ed-ef52-46b7-a691-e8881290f702",
        "colab": {
          "base_uri": "https://localhost:8080/",
          "height": 34
        }
      },
      "source": [
        "#A director of reservations believes that 7% of the ticketed passengers are no-shows.  \n",
        "#If the director is right, what is the probability that the proportion of no-shows in a sample of 540 ticketed passengers \n",
        "#would differ from the population proportion by less than 3%? (Round your answer to 4 decimal places)\n",
        "\n",
        "round(f.norm.cdf(0.1, 0.07, (0.07*0.93/540)**0.5) - f.norm.cdf(0.04, 0.07, (0.07*0.93/540)**0.5),4)"
      ],
      "execution_count": 53,
      "outputs": [
        {
          "output_type": "execute_result",
          "data": {
            "text/plain": [
              "0.9937"
            ]
          },
          "metadata": {
            "tags": []
          },
          "execution_count": 53
        }
      ]
    },
    {
      "cell_type": "code",
      "metadata": {
        "id": "qjnRq6ijpy4z",
        "colab_type": "code",
        "outputId": "e1248c25-5b0b-4b6e-97c8-0ee3fb5539c8",
        "colab": {
          "base_uri": "https://localhost:8080/",
          "height": 34
        }
      },
      "source": [
        "#A bottle maker believes that 23% of his bottles are defective.  If the bottle maker is accurate, what is the \n",
        "#probability that the proportion of defective bottles in a sample of 602 bottles would differ from the population proportion by greater than 4%? \n",
        "#(Round your answer to 4 decimal places)\n",
        "\n",
        "round(1 - round(f.norm.cdf(0.27, 0.23, (0.23*0.77/602)**0.5) - f.norm.cdf(0.19, 0.23, (0.23*0.77/602)**0.5),4),4)"
      ],
      "execution_count": 54,
      "outputs": [
        {
          "output_type": "execute_result",
          "data": {
            "text/plain": [
              "0.0197"
            ]
          },
          "metadata": {
            "tags": []
          },
          "execution_count": 54
        }
      ]
    },
    {
      "cell_type": "code",
      "metadata": {
        "id": "g18S6tsQqi5m",
        "colab_type": "code",
        "outputId": "7bd26df3-c41a-40e9-f95c-aa968c7e4201",
        "colab": {
          "base_uri": "https://localhost:8080/",
          "height": 50
        }
      },
      "source": [
        "#A research company desires to know the mean consumption of beef per week among males over age 48.  \n",
        "#Suppose a sample of size 208 is drawn with x_bar = 3.9.  Assume s = 0.8 .  \n",
        "#Construct the 80% confidence interval for the mean number of lb. of beef per week among males over 48. \n",
        "#(Round your answers to 1 decimal place) \n",
        "\n",
        "round(3.9 - f.norm.ppf(0.9)*0.8/(208**0.5),1)\n",
        "print()\n",
        "round(3.9 + f.norm.ppf(0.9)*0.8/(208**0.5),1)\n",
        "print()\n"
      ],
      "execution_count": 55,
      "outputs": [
        {
          "output_type": "execute_result",
          "data": {
            "text/plain": [
              "3.8"
            ]
          },
          "metadata": {
            "tags": []
          },
          "execution_count": 55
        },
        {
          "output_type": "stream",
          "text": [
            "\n"
          ],
          "name": "stdout"
        },
        {
          "output_type": "execute_result",
          "data": {
            "text/plain": [
              "4.0"
            ]
          },
          "metadata": {
            "tags": []
          },
          "execution_count": 55
        },
        {
          "output_type": "stream",
          "text": [
            "\n"
          ],
          "name": "stdout"
        }
      ]
    },
    {
      "cell_type": "code",
      "metadata": {
        "id": "9IIeHfOZQ6Il",
        "colab_type": "code",
        "outputId": "fb1d0e5a-f5b6-4c0d-9ac0-3cc8678182eb",
        "colab": {
          "base_uri": "https://localhost:8080/",
          "height": 50
        }
      },
      "source": [
        "#An economist wants to estimate the mean per capita income (in thousands of dollars) in a major city in California.\n",
        "#Suppose a sample of size 7472 is drawn with x_bar = 16.6.  Assume s = 11.  \n",
        "#Construct the 98% confidence interval for the mean per capita income. (Round your answers to 1 decimal place) \n",
        "\n",
        "round(16.6 - f.norm.ppf(0.99)*11/(7472**0.5),1)\n",
        "print()\n",
        "round(16.6 + f.norm.ppf(0.99)*11/(7472**0.5),1)\n",
        "print()"
      ],
      "execution_count": 56,
      "outputs": [
        {
          "output_type": "execute_result",
          "data": {
            "text/plain": [
              "16.3"
            ]
          },
          "metadata": {
            "tags": []
          },
          "execution_count": 56
        },
        {
          "output_type": "stream",
          "text": [
            "\n"
          ],
          "name": "stdout"
        },
        {
          "output_type": "execute_result",
          "data": {
            "text/plain": [
              "16.9"
            ]
          },
          "metadata": {
            "tags": []
          },
          "execution_count": 56
        },
        {
          "output_type": "stream",
          "text": [
            "\n"
          ],
          "name": "stdout"
        }
      ]
    },
    {
      "cell_type": "code",
      "metadata": {
        "id": "Zg8aPCsMSEKh",
        "colab_type": "code",
        "outputId": "1ff1c2b4-10de-4b79-8238-d98d3ba0f5c2",
        "colab": {
          "base_uri": "https://localhost:8080/",
          "height": 34
        }
      },
      "source": [
        "#Find the value of t such that 0.05 of the area under the curve is to the left of t.\n",
        "#Assume the degrees of freedom equals 26.\n",
        "\n",
        "#Upper-right graph \n",
        "\n",
        "round(f.t.ppf(0.05, 26),4)"
      ],
      "execution_count": 57,
      "outputs": [
        {
          "output_type": "execute_result",
          "data": {
            "text/plain": [
              "-1.7056"
            ]
          },
          "metadata": {
            "tags": []
          },
          "execution_count": 57
        }
      ]
    },
    {
      "cell_type": "code",
      "metadata": {
        "id": "20SSg444V5ck",
        "colab_type": "code",
        "outputId": "5435357b-36c8-4c65-f94b-272a814558ca",
        "colab": {
          "base_uri": "https://localhost:8080/",
          "height": 118
        }
      },
      "source": [
        "import numpy as np\n",
        "#The following measurements ( in picocuries per liter ) were recorded by a set of helium gas detectors installed in a laboratory facility:  \n",
        "#383.6, 347.1, 371.9, 347.6, 325.8, 337\n",
        "#Using these measurements, construct a 90% confidence interval for the mean level of helium gas present in the facility.  \n",
        "#Assume the population is normally distributed.  \n",
        "#Step 1. Calculate the sample mean for the given sample data. (Round answer to 2 decimal places) \n",
        "#Step 2. Calculate the sample standard deviation for the given sample data. (Round answer to 2 decimal places) \n",
        "#Step 3. Find the critical value that should be used in constructing the confidence interval. (Round answer to 3 decimal place.\n",
        "#Step 4. Construct the 90% confidence interval. (Round answer to 2 decimal places)\n",
        "\n",
        "s = np.array([383.6, 347.1, 371.9, 347.6, 325.8, 337])\n",
        "round(np.mean(s),2)\n",
        "print()\n",
        "round(np.std(s),2)\n",
        "print()\n",
        "round(f.t.ppf(0.05, 5),3)\n",
        "print()\n",
        "round(f.t.ppf(0.95, 5),3)\n",
        "print()\n",
        "round(np.mean(s) - (f.norm.ppf(0.95)*np.std(s)/(6**0.5)),2)\n",
        "print()\n",
        "round(np.mean(s) + (f.norm.ppf(0.95)*np.std(s)/(6**0.5)),2)\n",
        "print()\n"
      ],
      "execution_count": 80,
      "outputs": [
        {
          "output_type": "execute_result",
          "data": {
            "text/plain": [
              "352.17"
            ]
          },
          "metadata": {
            "tags": []
          },
          "execution_count": 80
        },
        {
          "output_type": "stream",
          "text": [
            "\n"
          ],
          "name": "stdout"
        },
        {
          "output_type": "execute_result",
          "data": {
            "text/plain": [
              "19.79"
            ]
          },
          "metadata": {
            "tags": []
          },
          "execution_count": 80
        },
        {
          "output_type": "stream",
          "text": [
            "\n"
          ],
          "name": "stdout"
        },
        {
          "output_type": "execute_result",
          "data": {
            "text/plain": [
              "-2.015"
            ]
          },
          "metadata": {
            "tags": []
          },
          "execution_count": 80
        },
        {
          "output_type": "stream",
          "text": [
            "\n"
          ],
          "name": "stdout"
        },
        {
          "output_type": "execute_result",
          "data": {
            "text/plain": [
              "2.015"
            ]
          },
          "metadata": {
            "tags": []
          },
          "execution_count": 80
        },
        {
          "output_type": "stream",
          "text": [
            "\n"
          ],
          "name": "stdout"
        },
        {
          "output_type": "execute_result",
          "data": {
            "text/plain": [
              "338.88"
            ]
          },
          "metadata": {
            "tags": []
          },
          "execution_count": 80
        },
        {
          "output_type": "stream",
          "text": [
            "\n"
          ],
          "name": "stdout"
        },
        {
          "output_type": "execute_result",
          "data": {
            "text/plain": [
              "365.45"
            ]
          },
          "metadata": {
            "tags": []
          },
          "execution_count": 80
        },
        {
          "output_type": "stream",
          "text": [
            "\n"
          ],
          "name": "stdout"
        }
      ]
    },
    {
      "cell_type": "code",
      "metadata": {
        "id": "etfMq9aV3-PM",
        "colab_type": "code",
        "colab": {
          "base_uri": "https://localhost:8080/",
          "height": 84
        },
        "outputId": "9449cbea-ecc2-4df6-d0d3-5031655ac3c2"
      },
      "source": [
        "#A random sample of 16 fields of spring wheat has a mean yield of 46.4 bushels per acre and standard deviation of 2.45 bushels per acre.  \n",
        "#Determine the 80% confidence interval for the true mean yield.  Assume the population is normally distributed.  \n",
        "#Step 1. Find the critical value that should be used in constructing the confidence interval. (Round answer to 3 decimal places) \n",
        "#Step 2. Construct the 80% confidence interval. (Round answer to 1 decimal place)\n",
        "\n",
        "round(f.t.ppf(0.1, 15),3)\n",
        "print()\n",
        "round(f.t.ppf(0.9, 15),3)\n",
        "print()\n",
        "round(46.4 - (f.norm.ppf(0.9)*2.45/(16**0.5)),1)\n",
        "print()\n",
        "round(46.4 + (f.norm.ppf(0.9)*2.45/(16**0.5)),1)\n",
        "print()\n"
      ],
      "execution_count": 83,
      "outputs": [
        {
          "output_type": "execute_result",
          "data": {
            "text/plain": [
              "-1.341"
            ]
          },
          "metadata": {
            "tags": []
          },
          "execution_count": 83
        },
        {
          "output_type": "stream",
          "text": [
            "\n"
          ],
          "name": "stdout"
        },
        {
          "output_type": "execute_result",
          "data": {
            "text/plain": [
              "1.341"
            ]
          },
          "metadata": {
            "tags": []
          },
          "execution_count": 83
        },
        {
          "output_type": "stream",
          "text": [
            "\n"
          ],
          "name": "stdout"
        },
        {
          "output_type": "execute_result",
          "data": {
            "text/plain": [
              "45.6"
            ]
          },
          "metadata": {
            "tags": []
          },
          "execution_count": 83
        },
        {
          "output_type": "stream",
          "text": [
            "\n"
          ],
          "name": "stdout"
        },
        {
          "output_type": "execute_result",
          "data": {
            "text/plain": [
              "47.2"
            ]
          },
          "metadata": {
            "tags": []
          },
          "execution_count": 83
        },
        {
          "output_type": "stream",
          "text": [
            "\n"
          ],
          "name": "stdout"
        }
      ]
    },
    {
      "cell_type": "code",
      "metadata": {
        "id": "dJ7CqgER5nXg",
        "colab_type": "code",
        "colab": {
          "base_uri": "https://localhost:8080/",
          "height": 50
        },
        "outputId": "679d434c-50e6-46c6-ec6b-4e4953863eaa"
      },
      "source": [
        "#A toy manufacturer wants to know how many new toys children buy each year.  She thinks the mean is 8 toys per year.  \n",
        "#Assume a previous study found the standard deviation to be 1.9.  \n",
        "#How large of a sample would be required in order to estimate the mean number of toys bought per child at the 99% confidence level \n",
        "#with an error of at most 0.13 toys? (Round your answer up to the next integer)\n",
        "\n",
        "z = f.norm.isf(0.005, 0, 1)\n",
        "print(z)\n",
        "round(((z*1.9/0.13)**2))\n",
        "print()"
      ],
      "execution_count": 100,
      "outputs": [
        {
          "output_type": "stream",
          "text": [
            "2.575829303548901\n"
          ],
          "name": "stdout"
        },
        {
          "output_type": "execute_result",
          "data": {
            "text/plain": [
              "1417.0"
            ]
          },
          "metadata": {
            "tags": []
          },
          "execution_count": 100
        },
        {
          "output_type": "stream",
          "text": [
            "\n"
          ],
          "name": "stdout"
        }
      ]
    },
    {
      "cell_type": "code",
      "metadata": {
        "id": "lbYr9FV38JJS",
        "colab_type": "code",
        "colab": {
          "base_uri": "https://localhost:8080/",
          "height": 67
        },
        "outputId": "f45163ff-81e1-40c3-efa5-0ec61f36c6a3"
      },
      "source": [
        "#A research scientist wants to know how many times per hour a certain strand of bacteria reproduces.  \n",
        "#He believes that the mean is 12.6.  Assume the variance is known to be 3.61.  \n",
        "#How large of a sample would be required in order to estimate the mean number of reproductions per hour at the 95% confidence level \n",
        "#with an error of at most 0.19 reproductions? \n",
        "#(Round your answer up to the next integer)\n",
        "\n",
        "z = f.norm.isf(0.025, 0, 1)\n",
        "print(z)\n",
        "a = (3.61)**0.5\n",
        "print(a)\n",
        "round((z*a/0.19)**2)\n",
        "print()\n"
      ],
      "execution_count": 118,
      "outputs": [
        {
          "output_type": "stream",
          "text": [
            "1.9599639845400545\n",
            "1.9\n"
          ],
          "name": "stdout"
        },
        {
          "output_type": "execute_result",
          "data": {
            "text/plain": [
              "384.0"
            ]
          },
          "metadata": {
            "tags": []
          },
          "execution_count": 118
        },
        {
          "output_type": "stream",
          "text": [
            "\n"
          ],
          "name": "stdout"
        }
      ]
    },
    {
      "cell_type": "code",
      "metadata": {
        "id": "SNS-8iq-_JMB",
        "colab_type": "code",
        "colab": {
          "base_uri": "https://localhost:8080/",
          "height": 84
        },
        "outputId": "09f7450b-4186-4698-9408-e8b7e1382f81"
      },
      "source": [
        "#The state education commission wants to estimate the fraction of tenth grade students that have reading skills at or below the eighth grade level.\n",
        "#Step 1. Suppose a sample of 2089 tenth graders is drawn. Of the students sampled, 1734 read above the eighth grade level.  \n",
        "#Using the data, estimate the proportion of tenth graders reading at or below the eighth grade level. \n",
        "#(Write your answer as a fraction or a decimal number rounded to 3 decimal places) \n",
        "#Step 2. Suppose a sample of 2089 tenth graders is drawn.  Of the students sampled, 1734 read above the eighth grade level.  \n",
        "#Using the data, construct the 98% confidence interval for the population proportion of tenth graders reading at or below the eighth grade level. \n",
        "#(Round your answers to 3 decimal places)\n",
        "\n",
        "p = round((2089 - 1734)/2089,3)\n",
        "print(p)\n",
        "z = f.norm.isf(0.01, 0, 1)\n",
        "print(z)\n",
        "round(p -(z * (p*(1-p)/2089)**0.5),3)\n",
        "print()\n",
        "round(p +(z * (p*(1-p)/2089)**0.5),3)\n",
        "print()"
      ],
      "execution_count": 129,
      "outputs": [
        {
          "output_type": "stream",
          "text": [
            "0.17\n",
            "2.3263478740408408\n"
          ],
          "name": "stdout"
        },
        {
          "output_type": "execute_result",
          "data": {
            "text/plain": [
              "0.151"
            ]
          },
          "metadata": {
            "tags": []
          },
          "execution_count": 129
        },
        {
          "output_type": "stream",
          "text": [
            "\n"
          ],
          "name": "stdout"
        },
        {
          "output_type": "execute_result",
          "data": {
            "text/plain": [
              "0.189"
            ]
          },
          "metadata": {
            "tags": []
          },
          "execution_count": 129
        },
        {
          "output_type": "stream",
          "text": [
            "\n"
          ],
          "name": "stdout"
        }
      ]
    },
    {
      "cell_type": "code",
      "metadata": {
        "id": "IadNGMSDKnUF",
        "colab_type": "code",
        "colab": {
          "base_uri": "https://localhost:8080/",
          "height": 84
        },
        "outputId": "c6456817-7d02-407a-c8fc-b49c009baa9a"
      },
      "source": [
        "#An environmentalist wants to find out the fraction of oil tankers that have spills each month.\n",
        "#Step 1. Suppose a sample of 474 tankers is drawn.  Of these ships, 156 had spills.  \n",
        "#Using the data, estimate the proportion of oil tankers that had spills. (Write your answer as a fraction or a decimal number rounded to 3 decimal places) \n",
        "#Step 2. Suppose a sample of 474 tankers is drawn.  Of these ships, 156 had spills.  \n",
        "#Using the data, construct the 95% confidence interval for the population proportion of oil tankers that have spills each month. \n",
        "#(Round your answers to 3 decimal places)\n",
        "\n",
        "p = 156/474\n",
        "print(p)\n",
        "z = f.norm.isf(0.025, 0, 1)\n",
        "print(z)\n",
        "round(p -(z * (p*(1-p)/474)**0.5),3)\n",
        "print()\n",
        "round(p +(z * (p*(1-p)/474)**0.5),3)\n",
        "print()"
      ],
      "execution_count": 130,
      "outputs": [
        {
          "output_type": "stream",
          "text": [
            "0.3291139240506329\n",
            "1.9599639845400545\n"
          ],
          "name": "stdout"
        },
        {
          "output_type": "execute_result",
          "data": {
            "text/plain": [
              "0.287"
            ]
          },
          "metadata": {
            "tags": []
          },
          "execution_count": 130
        },
        {
          "output_type": "stream",
          "text": [
            "\n"
          ],
          "name": "stdout"
        },
        {
          "output_type": "execute_result",
          "data": {
            "text/plain": [
              "0.371"
            ]
          },
          "metadata": {
            "tags": []
          },
          "execution_count": 130
        },
        {
          "output_type": "stream",
          "text": [
            "\n"
          ],
          "name": "stdout"
        }
      ]
    }
  ]
}